{
 "cells": [
  {
   "cell_type": "code",
   "execution_count": 4,
   "metadata": {},
   "outputs": [],
   "source": [
    "import random\n",
    "import time"
   ]
  },
  {
   "cell_type": "code",
   "execution_count": 1,
   "metadata": {},
   "outputs": [],
   "source": [
    "class Character:\n",
    "    health = 10\n",
    "    mana = 50\n",
    "    strength = 10\n",
    "    magic = 20\n",
    "    in_guard = False\n",
    "\n",
    "    def __init__(self, name, turn = True, bot = False):\n",
    "        self.name = name\n",
    "        self.turn = turn\n",
    "        self.bot = bot\n",
    "\n",
    "    def attack(self, objective: object):\n",
    "        if objective.in_guard == True:\n",
    "            objective.health = objective.health - (self.strength - random.randint(5,7))\n",
    "            objective.in_guard = False\n",
    "        else:\n",
    "            objective.health = objective.health - self.strength\n",
    "        return objective.health\n",
    "    \n",
    "    def defend(self):\n",
    "        self.in_guard = True\n",
    "        return self.in_guard\n",
    "    \n",
    "    def fire(self, objective: object):\n",
    "        if objective.in_guard == True:\n",
    "            objective.health = objective.health - (self.magic - random.randint(3,5))\n",
    "            objective.in_guard = False\n",
    "        else:\n",
    "            objective.health = objective.health - self.magic\n",
    "        self.mana = self.mana - 10\n",
    "        return objective.health\n",
    "    \n",
    "    def heal(self):\n",
    "        if self.health < 100:\n",
    "            self.health = self.health + 15\n",
    "            if self.health > 100:\n",
    "                self.health = 100\n",
    "            self.mana = self.mana - 10\n",
    "        else:\n",
    "            print('you are at full health!')\n",
    "        return self.health\n",
    "    \n",
    "    def escape():\n",
    "        escape_probability = random.randint(1,4)\n",
    "        if escape_probability == 4:\n",
    "            print('You escaped succesfully!')\n",
    "        else:\n",
    "            print(\"it didn't work well..\")\n",
    "        return escape_probability\n",
    "    \n",
    "def display_combat(player1, player2):\n",
    "    ux = print(f'  Health: {player1.health} \\t\\t\\t Health: {player2.health}\\n  Mana: {player1.mana} \\t\\t\\t Mana: {player2.mana} \\n {\"*\" * 13} \\t\\t\\t {\"*\" * 13} \\n    {player1.name} \\t\\t\\t      {player2.name}')\n",
    "    return ux\n",
    "\n",
    "def player_decision(player: Character, objective):\n",
    "    menu = ['attack', 'defend', 'fire', 'heal', 'escape']   \n",
    "    if player.bot == False:\n",
    "        player_decision = input(f'what would you like to do? \\n{menu}')\n",
    "    else:\n",
    "        player_decision = random.choice(menu)\n",
    "\n",
    "    match player_decision:\n",
    "        case 'attack':\n",
    "            player.attack(objective)\n",
    "        case 'defend':\n",
    "            player.defend()\n",
    "        case 'fire':\n",
    "            player.fire(objective)\n",
    "        case 'heal':\n",
    "            player.heal()\n",
    "        case 'escape':\n",
    "            player.escape()\n",
    "    return player_decision"
   ]
  },
  {
   "cell_type": "code",
   "execution_count": 3,
   "metadata": {},
   "outputs": [
    {
     "name": "stdout",
     "output_type": "stream",
     "text": [
      "welcome! This is a mini turn based game, where you can play against a bot. Here I am testing some python basics so as OOP structure.\n",
      "  Health: 10 \t\t\t Health: 10\n",
      "  Mana: 50 \t\t\t Mana: 50 \n",
      " ************* \t\t\t ************* \n",
      "    manuel \t\t\t      Bot\n",
      "your turn!\n",
      "manuel chose e!\n"
     ]
    },
    {
     "ename": "NameError",
     "evalue": "name 'time' is not defined",
     "output_type": "error",
     "traceback": [
      "\u001b[1;31m---------------------------------------------------------------------------\u001b[0m",
      "\u001b[1;31mNameError\u001b[0m                                 Traceback (most recent call last)",
      "Cell \u001b[1;32mIn[3], line 15\u001b[0m\n\u001b[0;32m     13\u001b[0m     player\u001b[38;5;241m.\u001b[39mturn \u001b[38;5;241m=\u001b[39m \u001b[38;5;28;01mFalse\u001b[39;00m\n\u001b[0;32m     14\u001b[0m     bot\u001b[38;5;241m.\u001b[39mturn \u001b[38;5;241m=\u001b[39m \u001b[38;5;28;01mTrue\u001b[39;00m\n\u001b[1;32m---> 15\u001b[0m     \u001b[43mtime\u001b[49m\u001b[38;5;241m.\u001b[39msleep(\u001b[38;5;241m2\u001b[39m)\n\u001b[0;32m     17\u001b[0m \u001b[38;5;28;01melif\u001b[39;00m bot\u001b[38;5;241m.\u001b[39mturn \u001b[38;5;241m==\u001b[39m \u001b[38;5;28;01mTrue\u001b[39;00m:\n\u001b[0;32m     18\u001b[0m     \u001b[38;5;28mprint\u001b[39m(\u001b[38;5;124m'\u001b[39m\u001b[38;5;124mbot turn!\u001b[39m\u001b[38;5;124m'\u001b[39m)\n",
      "\u001b[1;31mNameError\u001b[0m: name 'time' is not defined"
     ]
    }
   ],
   "source": [
    "print('welcome! This is a mini turn based game, where you can play against a bot. Here I am testing some python basics so as OOP structure.')\n",
    "name = input('lest play! tell me your name')\n",
    "player = Character(name)\n",
    "bot = Character('Bot',turn= False, bot= True)\n",
    "\n",
    "while player.health > 0 and bot.health > 0:\n",
    "    display_combat(player, bot)\n",
    "        \n",
    "    if player.turn == True:\n",
    "        print('your turn!')\n",
    "        decision = player_decision(player, bot)\n",
    "        print(f'{player.name} chose {decision}!')\n",
    "        player.turn = False\n",
    "        bot.turn = True\n",
    "        time.sleep(2)\n",
    "\n",
    "    elif bot.turn == True:\n",
    "        print('bot turn!')\n",
    "        decision = player_decision(bot, player)\n",
    "        print(f'{bot.name} chose {decision}!')\n",
    "        player.turn = True\n",
    "        bot.turn = False\n",
    "        time.sleep(2)\n",
    "\n",
    "if player.health < 0:\n",
    "    print(f\"{bot.name} Wins!\")\n",
    "elif bot.health < 0: \n",
    "    print(f\"{player.name} Wins!\")"
   ]
  },
  {
   "cell_type": "code",
   "execution_count": null,
   "metadata": {},
   "outputs": [],
   "source": []
  }
 ],
 "metadata": {
  "kernelspec": {
   "display_name": "Python 3",
   "language": "python",
   "name": "python3"
  },
  "language_info": {
   "codemirror_mode": {
    "name": "ipython",
    "version": 3
   },
   "file_extension": ".py",
   "mimetype": "text/x-python",
   "name": "python",
   "nbconvert_exporter": "python",
   "pygments_lexer": "ipython3",
   "version": "3.12.6"
  }
 },
 "nbformat": 4,
 "nbformat_minor": 2
}
